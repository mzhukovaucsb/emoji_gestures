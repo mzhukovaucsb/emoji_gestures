{
 "cells": [
  {
   "cell_type": "markdown",
   "id": "3201f5f5-74a7-46f3-80f4-e2c1146d9247",
   "metadata": {},
   "source": [
    "**Importing packages**"
   ]
  },
  {
   "cell_type": "code",
   "execution_count": 10,
   "id": "da057176-96fe-49d5-9760-49960710cca8",
   "metadata": {},
   "outputs": [],
   "source": [
    "import tweepy as tw\n",
    "import pandas as pd\n",
    "from datetime import date"
   ]
  },
  {
   "cell_type": "markdown",
   "id": "f5759531-35b0-433d-a8f0-05269d638b5f",
   "metadata": {},
   "source": [
    "**Credentials**"
   ]
  },
  {
   "cell_type": "code",
   "execution_count": 11,
   "id": "ac09129a-6541-4375-9b87-870e05776922",
   "metadata": {},
   "outputs": [],
   "source": [
    "consumer_key = '...',
    "consumer_secret = '...',
    "access_token = '...',
    "access_token_secret = '...'
   ]
  },
  {
   "cell_type": "markdown",
   "id": "fc28f7a7-c5dd-4bd6-8066-adc5018ba059",
   "metadata": {},
   "source": [
    "**Authentication**"
   ]
  },
  {
   "cell_type": "code",
   "execution_count": 12,
   "id": "c09d80fe-e699-4df6-9805-48ded7092726",
   "metadata": {},
   "outputs": [],
   "source": [
    "auth = tw.AppAuthHandler(consumer_key, consumer_secret)\n",
    "api= tw.API(auth, wait_on_rate_limit=True, wait_on_rate_limit_notify=True)"
   ]
  },
  {
   "cell_type": "markdown",
   "id": "7c9b88a5-5abd-4b4a-a36f-91bea750c39c",
   "metadata": {},
   "source": [
    "**Emoji**"
   ]
  },
  {
   "cell_type": "code",
   "execution_count": 13,
   "id": "703d0e49-7d97-4959-a174-ff0b873e3839",
   "metadata": {},
   "outputs": [],
   "source": [
    "gesture_emoji = [ \"👇🏿\", \"👈🏿\", \"👉🏿\",\"👆🏿\",\"🤙🏿\",\"👏🏿\",\"🤞🏿\",\"💪🏿\",\"🙏🏿\",\"🖐🏿\",\"☝🏿\",\"🤛🏿\",\"🤟🏿\",\"🖕🏿\",\"👌🏿\",\"👊🏿\",\"👐🏿\",\"🤲🏿\",\"🤌🏿\",\"🤏🏿\",\"🤚🏿\",\"✊🏿\",\"✋🏿\",\"🙌🏿\",\"🤜🏿\",\"🤘🏿\",\"👎🏿\",\"👍🏿\",\"✌🏿\",\"🖖🏿\",\"👋🏿\",\n",
    "                  \"👇🏾\", \"👈🏾\",\"👉🏾\",\"👆🏾\",\"🤙🏾\",\"👏🏾\",\"🤞🏾\",\"💪🏾\",\"🙏🏾\",\"🖐🏾\",\"☝🏾\",\"🤛🏾\",\"🤟🏾\",\"🖕🏾\",\"👌🏾\",\"👊🏾\",\"👐🏾\",\"🤲🏾\",\"🤌🏾\",\"🤏🏾\",\"🤚🏾\",\"✊🏾\",\"✋🏾\", \"🙌🏾\",\"🤜🏾\",\"🤘🏾\",\"👎🏾\",\"👍🏾\",\"✌🏾\",\"🖖🏾\",\"👋🏾\",\n",
    "                  \"👇🏽\",\"👈🏽\",\"👉🏽\",\"👆🏽\",\"🤙🏽\",\"👏🏽\",\"🤞🏽\",\"💪🏽\",\"🙏🏽\",\"🖐🏽\",\"☝🏽\",\"🤛🏽\",\"🤟🏽\",\"🖕🏽\",\"👌🏽\",\"👊🏽\",\"👐🏽\",\"🤲🏽\",\"🤌🏽\",\"🤏🏽\",\"🤚🏽\",\"✊🏽\",\"✋🏽\",\"🙌🏽\",\"🤜🏽\",\"🤘🏽\",\"👎🏽\",\"👍🏽\",\"✌🏽\",\"🖖🏽\",\"👋🏽\",\n",
    "                 \"👇🏻\",\"👈🏻\",\"👉🏻\",\"👆🏻\",\"🤙🏻\",\"👏🏻\",\"🤞🏻\",\"💪🏻\",\"🙏🏻\",\"🖐🏻\",\"☝🏻\",\"🤛🏻\",\"🤟🏻\",\"🖕🏻\",\"👌🏻\",\"👊🏻\",\"👐🏻\",\"🤲🏻\",\"🤌🏻\",\"🤏🏻\",\"🤚🏻\",\"✊🏻\",\"✋🏻\",\"🙌🏻\",\"🤜🏻\",\"🤘🏻\",\"👎🏻\",\"👍🏻\",\"✌🏻\",\"🖖🏻\",\"👋🏻\", \n",
    "                 \"👇🏼\",\"👈🏼\",\"👉🏼\",\"👆🏼\",\"🤙🏼\",\"👏🏼\",\"🤞🏼\",\"💪🏼\",\"🙏🏼\",\"🖐🏼\",\"☝🏼\",\"🤛🏼\",\"🤟🏼\",\"🖕🏼\",\"👌🏼\",\"👊🏼\",\"👐🏼\",\"🤲🏼\",\"🤌🏼\",\"🤏🏼\",\"🤚🏼\",\"✊🏼\",\"✋🏼\",\"🙌🏼\",\"🤜🏼\",\"🤘🏼\",\"👎🏼\",\"👍🏼\",\"✌🏼\",\"🖖🏼\",\"👋🏼\", \n",
    "     \n",
    "                 \"✌️\", \"✋\", \"✊\", \"☝️\", \"🤲\", \"🤟\", \"🤞\", \"🤝\", \"🤜\", \"🤛\", \"🤚\", \"🤙\", \"🤘\", \"🤏\",\"🤌\",\"🙏\",\"🙌\",\"🖖\",\"🖕\",\"🖐\",\"👐\",\"👏\",\"👎\", \"👍\",\"👌\",\"👋\",\"👊\",\"👉\",\"👈\",\"👇\",\"👆\"]\n",
    "\n",
    "\n"
   ]
  },
  {
   "cell_type": "markdown",
   "id": "b9114cf2-7102-42d0-b358-623644a623ba",
   "metadata": {},
   "source": [
    "**Geocodes**"
   ]
  },
  {
   "cell_type": "code",
   "execution_count": 14,
   "id": "24ac13c0-3ac1-4ff9-8050-bc41bc23a5f9",
   "metadata": {},
   "outputs": [],
   "source": [
    "geocode_SoCal = '34.052235,-118.243683,200km'"
   ]
  },
  {
   "cell_type": "markdown",
   "id": "12d110f4-0937-4e1e-aabd-1ca2e334f4d3",
   "metadata": {},
   "source": [
    "**Date**"
   ]
  },
  {
   "cell_type": "code",
   "execution_count": 15,
   "id": "2b18c4da-506a-49b5-893f-2fd5f125d9d8",
   "metadata": {},
   "outputs": [],
   "source": [
    "today = date.today()"
   ]
  },
  {
   "cell_type": "markdown",
   "id": "5769090a-b3a9-4fad-aa83-ee5014d58408",
   "metadata": {},
   "source": [
    "**Download Tweets: Southern California**"
   ]
  },
  {
   "cell_type": "code",
   "execution_count": null,
   "id": "411ff707-e78a-4dff-8a6d-4bed8b91b1cc",
   "metadata": {},
   "outputs": [],
   "source": [
    "tweets_SoCal = []\n",
    "emoji_corpus_SoCal = []\n",
    "\n",
    "for emoji in gesture_emoji: \n",
    "    new_search = emoji + \"-filter:retweets\"\n",
    "    t = tw.Cursor(api.search, q=new_search, lang=\"en\", \n",
    "                  geocode=geocode_SoCal,since=today) \n",
    "    data = [[tweet.text, emoji, tweet.user.screen_name, \n",
    "             tweet.user.location,tweet.created_at.day,\n",
    "             tweet.created_at.month,tweet.created_at.year] \n",
    "            for tweet in t.items()]\n",
    "    tweets_SoCal.append(data) \n",
    "    \n",
    "    for sublist in tweets_SoCal:\n",
    "        for tw1 in sublist:\n",
    "                emoji_corpus_SoCal.append(tw1)           "
   ]
  },
  {
   "cell_type": "markdown",
   "id": "3ae98681-580b-4642-acab-f7feab628bdb",
   "metadata": {},
   "source": [
    "**Saving Tweets**"
   ]
  },
  {
   "cell_type": "code",
   "execution_count": null,
   "id": "0685537c-8e83-4d33-8997-8012301beeb5",
   "metadata": {},
   "outputs": [],
   "source": [
    "df_SoCal = pd.DataFrame(emoji_corpus_SoCal,columns=['tweet',\n",
    "            'emoji','user','location','day','month','year']) \n",
    "df_SoCal = df_SoCal.drop_duplicates(subset=['tweet'])\n",
    "df_SoCal.to_csv('SoCal_tweets.csv')"
   ]
  }
 ],
 "metadata": {
  "kernelspec": {
   "display_name": "Python 3",
   "language": "python",
   "name": "python3"
  },
  "language_info": {
   "codemirror_mode": {
    "name": "ipython",
    "version": 3
   },
   "file_extension": ".py",
   "mimetype": "text/x-python",
   "name": "python",
   "nbconvert_exporter": "python",
   "pygments_lexer": "ipython3",
   "version": "3.8.8"
  }
 },
 "nbformat": 4,
 "nbformat_minor": 5
}
