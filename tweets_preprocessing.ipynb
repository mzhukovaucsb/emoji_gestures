{
 "cells": [
  {
   "cell_type": "markdown",
   "id": "f6b96367-483b-4b61-a1df-50da31eb4d08",
   "metadata": {},
   "source": [
    "**Importing packages**"
   ]
  },
  {
   "cell_type": "code",
   "execution_count": 48,
   "id": "807a0e21-739f-44a1-b053-fa9b995d0d0c",
   "metadata": {},
   "outputs": [],
   "source": [
    "import re\n",
    "import preprocessor as p\n",
    "import emoji\n",
    "import regex\n",
    "import string\n",
    "import nltk"
   ]
  },
  {
   "cell_type": "markdown",
   "id": "978d0af2-1e1a-41ca-a70b-37fcabaa7650",
   "metadata": {},
   "source": [
    "**Tweet preprocessing: relevant functions**"
   ]
  },
  {
   "cell_type": "code",
   "execution_count": 49,
   "id": "57558512-223f-436e-9135-676debbcc274",
   "metadata": {},
   "outputs": [],
   "source": [
    "p.set_options(p.OPT.URL, p.OPT.MENTION, p.OPT.HASHTAG)\n",
    "\n",
    "def preprocess_tweet(row):\n",
    "    text = row['tweet']\n",
    "    text = p.tokenize(text)\n",
    "    text = re.sub(' +', ' ', text)\n",
    "    text = text.lower()\n",
    "    return text\n",
    "\n",
    "def left_context(row):\n",
    "    text = row['preprocessing']\n",
    "    emoji = row['emoji'] \n",
    "    contexts = text.split(emoji)\n",
    "    left_context = contexts[0]\n",
    "    return left_context\n",
    "\n",
    "def right_context(row):\n",
    "    text = row['preprocessing']\n",
    "    emoji = row['emoji'] \n",
    "    contexts = text.split(emoji)\n",
    "    right_context = contexts[-1]\n",
    "    return right_context\n",
    "\n",
    "tokenizer = nltk.RegexpTokenizer(r\"\\w+\")\n",
    "    \n",
    "def remove_punct_left(row):\n",
    "    text = row['left context']\n",
    "    text = tokenizer.tokenize(text)\n",
    "    return text\n",
    "\n",
    "def remove_punct_right(row):\n",
    "    text = row['right context']\n",
    "    text = tokenizer.tokenize(text)\n",
    "    return text"
   ]
  },
  {
   "cell_type": "code",
   "execution_count": 54,
   "id": "bdec6475-1c11-4d8f-8b33-9c1d1becbb6f",
   "metadata": {
    "tags": []
   },
   "outputs": [],
   "source": [
    "df_Moscow = pd.read_csv('Moscow_tweets_anonymized.csv')"
   ]
  },
  {
   "cell_type": "code",
   "execution_count": 55,
   "id": "81242bad-fcbb-4102-89f0-79f57d3ccdab",
   "metadata": {},
   "outputs": [],
   "source": [
    "df_Moscow['preprocessing'] = df_Moscow.apply(preprocess_tweet, axis=1)"
   ]
  },
  {
   "cell_type": "code",
   "execution_count": 56,
   "id": "74bde79e-2433-4b2a-853e-c5e147e86b23",
   "metadata": {},
   "outputs": [],
   "source": [
    "df_Moscow['left context'] = df_Moscow.apply(left_context, axis=1)\n",
    "df_Moscow['right context'] = df_Moscow.apply(right_context, axis=1)\n",
    "\n",
    "df_Moscow['left context'] = df_Moscow.apply(remove_punct_left, axis=1)\n",
    "df_Moscow['right context'] = df_Moscow.apply(remove_punct_right, axis=1)"
   ]
  },
  {
   "cell_type": "code",
   "execution_count": 57,
   "id": "398064a2-bd8d-4fc1-8d76-6c72903a68d8",
   "metadata": {},
   "outputs": [],
   "source": [
    "df_Moscow = df_Moscow[[\"Index\", \"tweet\", \"preprocessing\",\"left context\",\n",
    "                       \"emoji\", \"right context\", \"location\",\n",
    "                       \"day\", \"month\",\"year\"]]"
   ]
  },
  {
   "cell_type": "code",
   "execution_count": 59,
   "id": "38cb3704-c93c-4915-8f6c-a9fae2e73ba0",
   "metadata": {},
   "outputs": [
    {
     "data": {
      "text/html": [
       "<div>\n",
       "<style scoped>\n",
       "    .dataframe tbody tr th:only-of-type {\n",
       "        vertical-align: middle;\n",
       "    }\n",
       "\n",
       "    .dataframe tbody tr th {\n",
       "        vertical-align: top;\n",
       "    }\n",
       "\n",
       "    .dataframe thead th {\n",
       "        text-align: right;\n",
       "    }\n",
       "</style>\n",
       "<table border=\"1\" class=\"dataframe\">\n",
       "  <thead>\n",
       "    <tr style=\"text-align: right;\">\n",
       "      <th></th>\n",
       "      <th>Index</th>\n",
       "      <th>tweet</th>\n",
       "      <th>preprocessing</th>\n",
       "      <th>left context</th>\n",
       "      <th>emoji</th>\n",
       "      <th>right context</th>\n",
       "      <th>location</th>\n",
       "      <th>day</th>\n",
       "      <th>month</th>\n",
       "      <th>year</th>\n",
       "    </tr>\n",
       "  </thead>\n",
       "  <tbody>\n",
       "    <tr>\n",
       "      <th>37532</th>\n",
       "      <td>FrbBwpvbnfu1YLjd3Lc5OVJmgXPL6yyy</td>\n",
       "      <td>Кстати, до полной линкйки Майор Гром осталось ...</td>\n",
       "      <td>кстати, до полной линкйки майор гром осталось ...</td>\n",
       "      <td>[кстати, до, полной, линкйки, майор, гром, ост...</td>\n",
       "      <td>🤌🏻</td>\n",
       "      <td>[url]</td>\n",
       "      <td>Москва, Россия</td>\n",
       "      <td>16</td>\n",
       "      <td>7</td>\n",
       "      <td>2021</td>\n",
       "    </tr>\n",
       "  </tbody>\n",
       "</table>\n",
       "</div>"
      ],
      "text/plain": [
       "                                  Index  \\\n",
       "37532  FrbBwpvbnfu1YLjd3Lc5OVJmgXPL6yyy   \n",
       "\n",
       "                                                   tweet  \\\n",
       "37532  Кстати, до полной линкйки Майор Гром осталось ...   \n",
       "\n",
       "                                           preprocessing  \\\n",
       "37532  кстати, до полной линкйки майор гром осталось ...   \n",
       "\n",
       "                                            left context emoji right context  \\\n",
       "37532  [кстати, до, полной, линкйки, майор, гром, ост...    🤌🏻         [url]   \n",
       "\n",
       "             location day month  year  \n",
       "37532  Москва, Россия  16     7  2021  "
      ]
     },
     "execution_count": 59,
     "metadata": {},
     "output_type": "execute_result"
    }
   ],
   "source": [
    "df_Moscow.sample()"
   ]
  },
  {
   "cell_type": "code",
   "execution_count": null,
   "id": "c758f1e1-3e08-4b14-94b6-9a8fa9e85fd0",
   "metadata": {},
   "outputs": [],
   "source": [
    "df_Moscow.to_csv('Moscow_tweets_preprocessing.csv')"
   ]
  }
 ],
 "metadata": {
  "kernelspec": {
   "display_name": "Python 3",
   "language": "python",
   "name": "python3"
  },
  "language_info": {
   "codemirror_mode": {
    "name": "ipython",
    "version": 3
   },
   "file_extension": ".py",
   "mimetype": "text/x-python",
   "name": "python",
   "nbconvert_exporter": "python",
   "pygments_lexer": "ipython3",
   "version": "3.8.8"
  }
 },
 "nbformat": 4,
 "nbformat_minor": 5
}
