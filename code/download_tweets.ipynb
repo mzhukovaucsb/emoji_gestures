{
 "cells": [
  {
   "cell_type": "markdown",
   "id": "5efd9db0-b0d8-4d8b-80db-b55a69be8989",
   "metadata": {},
   "source": [
    "**Importing packages**"
   ]
  },
  {
   "cell_type": "code",
   "execution_count": null,
   "id": "2dfbe31b-f8d8-4f2e-ba50-969645a52306",
   "metadata": {},
   "outputs": [],
   "source": [
    "\"\"\"\n",
    " Importing necessary packages for downloading tweets.\n",
    "\"\"\"\n",
    "\n",
    "import tweepy as tw\n",
    "import pandas as pd\n",
    "from datetime import date"
   ]
  },
  {
   "cell_type": "markdown",
   "id": "5da5b7f0-6f1c-466d-8999-379bd57e6ced",
   "metadata": {},
   "source": [
    "**Credentials**"
   ]
  },
  {
   "cell_type": "code",
   "execution_count": null,
   "id": "d9ddfa7f-0735-499b-a7a5-de6a6e899542",
   "metadata": {},
   "outputs": [],
   "source": [
    "\"\"\"\n",
    " Twitter API credentials.\n",
    "\"\"\"\n",
    "\n",
    "consumer_key = 'INSERT YOUR CREDENTIALS'\n",
    "consumer_secret = 'INSERT YOUR CREDENTIALS'\n",
    "access_token = 'INSERT YOUR CREDENTIALS'\n",
    "access_token_secret = 'INSERT YOUR CREDENTIALS'"
   ]
  },
  {
   "cell_type": "markdown",
   "id": "405525d0-1113-446a-8478-4df17028616b",
   "metadata": {},
   "source": [
    "**Authentication**"
   ]
  },
  {
   "cell_type": "code",
   "execution_count": null,
   "id": "581e3faf-f5e8-43d8-9b98-638a7823f449",
   "metadata": {},
   "outputs": [],
   "source": [
    "\"\"\"\n",
    " Twitter API authentification.\n",
    "\"\"\"\n",
    "\n",
    "auth = tw.AppAuthHandler(consumer_key, consumer_secret)\n",
    "api= tw.API(auth, wait_on_rate_limit=True, wait_on_rate_limit_notify=True)"
   ]
  },
  {
   "cell_type": "markdown",
   "id": "8d97811c-e503-4546-8dd3-4c0344a762ca",
   "metadata": {},
   "source": [
    "**Emoji**"
   ]
  },
  {
   "cell_type": "code",
   "execution_count": null,
   "id": "b35b40eb-def8-440a-b8aa-821f2d6f7d52",
   "metadata": {},
   "outputs": [],
   "source": [
    "\"\"\"\n",
    " The list of gesture emoji under investigation.\n",
    "\"\"\"\n",
    "\n",
    "gesture_emoji = [ \"👇🏿\", \"👈🏿\", \"👉🏿\",\"👆🏿\",\"🤙🏿\",\"👏🏿\",\"🤞🏿\",\"💪🏿\",\"🙏🏿\",\"🖐🏿\",\"☝🏿\",\"🤛🏿\",\"🤟🏿\",\"🖕🏿\",\"👌🏿\",\"👊🏿\",\"👐🏿\",\"🤲🏿\",\"🤌🏿\",\"🤏🏿\",\"🤚🏿\",\"✊🏿\",\"✋🏿\",\"🙌🏿\",\"🤜🏿\",\"🤘🏿\",\"👎🏿\",\"👍🏿\",\"✌🏿\",\"🖖🏿\",\"👋🏿\",\n",
    "                  \"👇🏾\", \"👈🏾\",\"👉🏾\",\"👆🏾\",\"🤙🏾\",\"👏🏾\",\"🤞🏾\",\"💪🏾\",\"🙏🏾\",\"🖐🏾\",\"☝🏾\",\"🤛🏾\",\"🤟🏾\",\"🖕🏾\",\"👌🏾\",\"👊🏾\",\"👐🏾\",\"🤲🏾\",\"🤌🏾\",\"🤏🏾\",\"🤚🏾\",\"✊🏾\",\"✋🏾\", \"🙌🏾\",\"🤜🏾\",\"🤘🏾\",\"👎🏾\",\"👍🏾\",\"✌🏾\",\"🖖🏾\",\"👋🏾\",\n",
    "                  \"👇🏽\",\"👈🏽\",\"👉🏽\",\"👆🏽\",\"🤙🏽\",\"👏🏽\",\"🤞🏽\",\"💪🏽\",\"🙏🏽\",\"🖐🏽\",\"☝🏽\",\"🤛🏽\",\"🤟🏽\",\"🖕🏽\",\"👌🏽\",\"👊🏽\",\"👐🏽\",\"🤲🏽\",\"🤌🏽\",\"🤏🏽\",\"🤚🏽\",\"✊🏽\",\"✋🏽\",\"🙌🏽\",\"🤜🏽\",\"🤘🏽\",\"👎🏽\",\"👍🏽\",\"✌🏽\",\"🖖🏽\",\"👋🏽\",\n",
    "                 \"👇🏻\",\"👈🏻\",\"👉🏻\",\"👆🏻\",\"🤙🏻\",\"👏🏻\",\"🤞🏻\",\"💪🏻\",\"🙏🏻\",\"🖐🏻\",\"☝🏻\",\"🤛🏻\",\"🤟🏻\",\"🖕🏻\",\"👌🏻\",\"👊🏻\",\"👐🏻\",\"🤲🏻\",\"🤌🏻\",\"🤏🏻\",\"🤚🏻\",\"✊🏻\",\"✋🏻\",\"🙌🏻\",\"🤜🏻\",\"🤘🏻\",\"👎🏻\",\"👍🏻\",\"✌🏻\",\"🖖🏻\",\"👋🏻\", \n",
    "                 \"👇🏼\",\"👈🏼\",\"👉🏼\",\"👆🏼\",\"🤙🏼\",\"👏🏼\",\"🤞🏼\",\"💪🏼\",\"🙏🏼\",\"🖐🏼\",\"☝🏼\",\"🤛🏼\",\"🤟🏼\",\"🖕🏼\",\"👌🏼\",\"👊🏼\",\"👐🏼\",\"🤲🏼\",\"🤌🏼\",\"🤏🏼\",\"🤚🏼\",\"✊🏼\",\"✋🏼\",\"🙌🏼\",\"🤜🏼\",\"🤘🏼\",\"👎🏼\",\"👍🏼\",\"✌🏼\",\"🖖🏼\",\"👋🏼\", \n",
    "                 \"✌️\", \"✋\", \"✊\", \"☝️\", \"🤲\", \"🤟\", \"🤞\", \"🤝\", \"🤜\", \"🤛\", \"🤚\", \"🤙\", \"🤘\", \"🤏\",\"🤌\",\"🙏\",\"🙌\",\"🖖\",\"🖕\",\"🖐\",\"👐\",\"👏\",\"👎\", \"👍\",\"👌\",\"👋\",\"👊\",\"👉\",\"👈\",\n",
    "                 \"👇\",\"👆\"]"
   ]
  },
  {
   "cell_type": "markdown",
   "id": "cfa9acce-b21d-44ca-889d-775828185bfd",
   "metadata": {},
   "source": [
    "**Geocodes**"
   ]
  },
  {
   "cell_type": "code",
   "execution_count": null,
   "id": "f875e489-350e-47e6-8e88-e7e745743a4c",
   "metadata": {},
   "outputs": [],
   "source": [
    "\"\"\"\n",
    " Setting locations where the tweets were written.\n",
    "\"\"\"\n",
    "\n",
    "geocode_SoCal = '34.052235,-118.243683,200km'\n",
    "geocode_NoCal = '36.999089,-121.840611,250km'\n",
    "geocode_Moscow = '55.750446,37.617494,50km'"
   ]
  },
  {
   "cell_type": "markdown",
   "id": "57b8a43b-5764-48eb-9aec-3cd3a690081e",
   "metadata": {},
   "source": [
    "**Date**"
   ]
  },
  {
   "cell_type": "code",
   "execution_count": null,
   "id": "422b0fcc-213b-464a-8b7f-74d3f51e6839",
   "metadata": {},
   "outputs": [],
   "source": [
    "\"\"\"\n",
    " Today's date.\n",
    "\"\"\"\n",
    "\n",
    "today = date.today()"
   ]
  },
  {
   "cell_type": "markdown",
   "id": "a8693029-7c8b-4db8-8028-6c2c583eb53b",
   "metadata": {},
   "source": [
    "**Tweets: Southern California**"
   ]
  },
  {
   "cell_type": "code",
   "execution_count": null,
   "id": "4b7fce86-b799-405a-bafa-8756a0386544",
   "metadata": {
    "tags": []
   },
   "outputs": [],
   "source": [
    "\"\"\"\n",
    " Downloads tweets written today in Southern California that contain one of the gesture emoji, removes retweets. \n",
    " Returns text of the tweet, username, location, and date a tweet was written.\n",
    "\"\"\"\n",
    "\n",
    "tweets_SoCal = []\n",
    "emoji_corpus_SoCal = []\n",
    "\n",
    "for emoji in gesture_emoji: \n",
    "    new_search = emoji + \"-filter:retweets\"\n",
    "    t = tw.Cursor(api.search, q=new_search, lang=\"en\", \n",
    "                  geocode=geocode_SoCal,since=today) \n",
    "    data = [[tweet.text, emoji, tweet.user.screen_name, \n",
    "             tweet.user.location,tweet.created_at.day,\n",
    "             tweet.created_at.month,tweet.created_at.year] \n",
    "            for tweet in t.items()]\n",
    "    tweets_SoCal.append(data) \n",
    "    \n",
    "    for sublist in tweets_SoCal:\n",
    "        for tw1 in sublist:\n",
    "                emoji_corpus_SoCal.append(tw1)  "
   ]
  },
  {
   "cell_type": "markdown",
   "id": "935a66f8-8c4d-43e4-af38-d78292856abd",
   "metadata": {},
   "source": [
    "**Converting Twitter data to a DataFrame**"
   ]
  },
  {
   "cell_type": "code",
   "execution_count": null,
   "id": "caf37c44-51cb-4df7-b731-263c512a5c91",
   "metadata": {},
   "outputs": [],
   "source": [
    "\"\"\"\n",
    " Converts data to a DataFrame, removes duplicates.\n",
    "\"\"\"\n",
    "\n",
    "df_SoCal = pd.DataFrame(emoji_corpus_SoCal,columns=['tweet',\n",
    "            'emoji','user','location','day','month','year']) \n",
    "df_SoCal = df_SoCal.drop_duplicates(subset=['tweet'])\n",
    "df_SoCal.to_csv('SoCal_tweets.csv')"
   ]
  },
  {
   "cell_type": "markdown",
   "id": "002137e0-a946-46d6-9623-f8b3716410b3",
   "metadata": {},
   "source": [
    "**Tweets: Northern California**"
   ]
  },
  {
   "cell_type": "code",
   "execution_count": null,
   "id": "b09e6061-03c8-4a41-b5b2-3ee13937b0b9",
   "metadata": {},
   "outputs": [],
   "source": [
    "\"\"\"\n",
    " Downloads tweets written today in Northern California that contain one of the gesture emoji, removes retweets. \n",
    " Returns text of the tweet, username, location, and date a tweet was written.\n",
    "\"\"\"\n",
    "\n",
    "tweets_NoCal = []\n",
    "emoji_corpus_NoCal = []\n",
    "\n",
    "for emoji in gesture_emoji: \n",
    "    new_search = emoji + \"-filter:retweets\"\n",
    "    t = tw.Cursor(api.search, q=new_search, lang=\"en\", \n",
    "                  geocode=geocode_NoCal,since=today) \n",
    "    data = [[tweet.text, emoji, tweet.user.screen_name, \n",
    "             tweet.user.location,tweet.created_at.day,\n",
    "             tweet.created_at.month,tweet.created_at.year] \n",
    "            for tweet in t.items()]\n",
    "    tweets_NoCal.append(data) \n",
    "\n",
    "    for sublist in tweets_NoCal:\n",
    "        for tw1 in sublist:\n",
    "                emoji_corpus_NoCal.append(tw1)           "
   ]
  },
  {
   "cell_type": "markdown",
   "id": "03328103-7eb8-4981-8512-183cafecfb51",
   "metadata": {},
   "source": [
    "**Converting Twitter data to a DataFrame**"
   ]
  },
  {
   "cell_type": "code",
   "execution_count": null,
   "id": "0a1dc5fd-c446-4bc0-ad80-e6052d9c18c1",
   "metadata": {},
   "outputs": [],
   "source": [
    "\"\"\"\n",
    " Converts data to a DataFrame, removes duplicates.\n",
    "\"\"\"\n",
    "\n",
    "df_NoCal = pd.DataFrame(emoji_corpus_NoCal,columns=['tweet',\n",
    "            'emoji','user','location','day','month','year']) \n",
    "\n",
    "df_NoCal = df_NoCal.drop_duplicates(subset=['tweet'])\n",
    "df_NoCal.to_csv('NoCal_tweets.csv')"
   ]
  },
  {
   "cell_type": "markdown",
   "id": "63cb908d-7d1f-49dc-b48b-8cdf609b580a",
   "metadata": {},
   "source": [
    "**Tweets: Russian**"
   ]
  },
  {
   "cell_type": "code",
   "execution_count": null,
   "id": "d983823e-d591-4993-a4fb-e0dc75564e2e",
   "metadata": {},
   "outputs": [],
   "source": [
    "\"\"\"\n",
    " Downloads tweets written today in Moscow that contain one of the gesture emoji, removes retweets. \n",
    " Returns text of the tweet, username, location, and date a tweet was written.\n",
    "\"\"\"\n",
    "\n",
    "tweets_Moscow = []\n",
    "emoji_corpus_Moscow = []\n",
    "\n",
    "for emoji in gesture_emoji: \n",
    "    new_search = emoji + \"-filter:retweets\"\n",
    "    t = tw.Cursor(api.search, q=new_search,lang=\"ru\", \n",
    "                  geocode=geocode_Moscow,since=today)   \n",
    "    data = [[tweet.text, emoji, tweet.user.screen_name, \n",
    "             tweet.user.location,tweet.created_at.day,\n",
    "             tweet.created_at.month,tweet.created_at.year] \n",
    "            for tweet in t.items()]\n",
    "    tweets_Moscow.append(data) \n",
    "\n",
    "    for sublist in tweets_Moscow:\n",
    "        for tw1 in sublist:\n",
    "                emoji_corpus_Moscow.append(tw1)    "
   ]
  },
  {
   "cell_type": "markdown",
   "id": "b2732524-7ad8-4459-92a6-55239b0d0aa9",
   "metadata": {},
   "source": [
    "**Converting Twitter data to DataFrame**"
   ]
  },
  {
   "cell_type": "code",
   "execution_count": null,
   "id": "fd97453b-4072-46b6-b3bd-d422006e5349",
   "metadata": {},
   "outputs": [],
   "source": [
    "\"\"\"\n",
    " Converts data to a DataFrame, removes duplicates.\n",
    "\"\"\"\n",
    "\n",
    "df_Moscow = pd.DataFrame(emoji_corpus_Moscow,columns=['tweet',\n",
    "            'emoji','user','location','day','month','year']) \n",
    "\n",
    "df_Moscow = df_Moscow.drop_duplicates(subset=['tweet'])\n",
    "df_Moscow.to_csv('Moscow_tweets.csv')"
   ]
  }
 ],
 "metadata": {
  "kernelspec": {
   "display_name": "Python 3",
   "language": "python",
   "name": "python3"
  },
  "language_info": {
   "codemirror_mode": {
    "name": "ipython",
    "version": 3
   },
   "file_extension": ".py",
   "mimetype": "text/x-python",
   "name": "python",
   "nbconvert_exporter": "python",
   "pygments_lexer": "ipython3",
   "version": "3.8.8"
  }
 },
 "nbformat": 4,
 "nbformat_minor": 5
}
